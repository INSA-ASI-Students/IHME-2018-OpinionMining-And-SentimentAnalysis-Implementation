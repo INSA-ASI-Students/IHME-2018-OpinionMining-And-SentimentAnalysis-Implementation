{
 "cells": [
  {
   "cell_type": "code",
   "execution_count": 1,
   "metadata": {
    "collapsed": true
   },
   "outputs": [],
   "source": [
    "import math as m\n",
    "import numpy as np\n",
    "import matplotlib.pyplot as plt\n",
    "%matplotlib inline\n",
    "import pandas as pd\n",
    "import seaborn as sb\n",
    "import random\n",
    "import os\n",
    "import nltk\n",
    "from nltk.probability import FreqDist\n",
    "\n",
    "\n",
    "import warnings\n",
    "warnings.filterwarnings('ignore')"
   ]
  },
  {
   "cell_type": "code",
   "execution_count": null,
   "metadata": {
    "collapsed": true
   },
   "outputs": [],
   "source": [
    "df_test = pd.read_csv('./StanceDataset/test_ingrid.csv')\n",
    "df_train = pd.read_csv('./StanceDataset/train_ingrid.csv')\n",
    "\n",
    "test_tweet = df_test['Tweet']\n",
    "train_tweet = df_train['Tweet']\n",
    "\n",
    "train_sentiment = df_train['Sentiment']"
   ]
  },
  {
   "cell_type": "code",
   "execution_count": null,
   "metadata": {
    "collapsed": true
   },
   "outputs": [],
   "source": [
    "from nltk.corpus import wordnet as wn"
   ]
  },
  {
   "cell_type": "code",
   "execution_count": null,
   "metadata": {
    "collapsed": true
   },
   "outputs": [],
   "source": [
    "liste = []\n",
    "\n",
    "ListeTweet = df_train.Tweet.values.tolist()\n",
    "ListSentiment = df_train.Sentiment.values.tolist()\n",
    "dim = len(ListSentiment)\n",
    "i = 0\n",
    "#print(dim)\n",
    "\n",
    "while i < dim:\n",
    "    tmp = (ListeTweet[i], ListSentiment[i])\n",
    "    liste.append(tmp)\n",
    "    i += 1\n",
    "\n",
    "#Liste de tuples (tweet,sentiment)\n",
    "#print(liste)\n",
    "\n",
    "# liste : Liste(tweet entier, sentiment)\n",
    "\n",
    "\n",
    "tweets = []\n",
    "\n",
    "for (words, sentiment) in liste:\n",
    "    words_filtered = [e.lower() for e in words.split() if len(e) >= 2]  #1 pour avoir bcp de mot split\n",
    "    tweets.append((words_filtered, sentiment))\n",
    "\n",
    "def get_words_in_tweets(tweets):\n",
    "    all_words = []\n",
    "    for (words, sentiment) in tweets:\n",
    "        all_words.extend(words)\n",
    "    return all_words\n",
    "\n",
    "def get_word_features(wordlist):\n",
    "    wordlist = nltk.FreqDist(wordlist)\n",
    "    word_features = wordlist.keys()\n",
    "    return word_features\n",
    "\n",
    "word_features = get_word_features(get_words_in_tweets(tweets))\n",
    "\n",
    "\n",
    "tokens = get_words_in_tweets(tweets)\n",
    "freq = nltk.FreqDist(tokens) \n",
    "#for key,val in freq.items(): \n",
    "   #print (str(key) + ':' + str(val))"
   ]
  },
  {
   "cell_type": "code",
   "execution_count": null,
   "metadata": {
    "collapsed": true
   },
   "outputs": [],
   "source": [
    "posTweet = []\n",
    "negTweet = []\n",
    "otherTweet = []\n",
    "\n",
    "\n",
    "dim = len(df_train)\n",
    "\n",
    "for i in range(dim):\n",
    "    if train_sentiment[i] == 'pos':\n",
    "        posTweet.append(train_tweet[i])\n",
    "    elif train_sentiment[i] == 'neg':\n",
    "        negTweet.append(train_tweet[i])\n",
    "    elif  train_sentiment[i] == 'other':\n",
    "        otherTweet.append(train_tweet[i])\n"
   ]
  },
  {
   "cell_type": "code",
   "execution_count": null,
   "metadata": {
    "collapsed": true
   },
   "outputs": [],
   "source": [
    "wordPos = []\n",
    "wordNeg = []\n",
    "wordOther = []\n",
    "\n",
    "\n",
    "for (words) in posTweet:\n",
    "    words_filtered = [e.lower() for e in words.split() if len(e) >= 6]  #2 : longueur des mots que l'on prends\n",
    "    wordPos.append(words_filtered)\n",
    "\n",
    "\n",
    "for (words) in negTweet:\n",
    "    words_filtered = [e.lower() for e in words.split() if len(e) >= 6]  #2 : longueur des mots que l'on prends\n",
    "    wordNeg.append(words_filtered)\n",
    "    \n",
    "\n",
    "for (words) in otherTweet:\n",
    "    words_filtered = [e.lower() for e in words.split() if len(e) >= 6]  #2 : longueur des mots que l'on prends\n",
    "    wordOther.append(words_filtered)"
   ]
  },
  {
   "cell_type": "code",
   "execution_count": null,
   "metadata": {},
   "outputs": [],
   "source": [
    "import nltk.classify.util\n",
    "from nltk.classify import NaiveBayesClassifier\n",
    "from nltk.corpus import names\n",
    " \n",
    "def word_feats(words):\n",
    "    return dict([(word, True) for word in words])\n",
    "\n",
    "#positive_vocab = [ 'awesome', 'outstanding', 'fantastic', 'terrific', 'good', 'nice', 'great', ':)' ]\n",
    "#negative_vocab = [ 'bad', 'terrible','useless', 'hate', ':(' ]\n",
    "#neutral_vocab = [ 'movie','the','sound','was','is','actors','did','know','words','not' ]\n",
    " \n",
    "\n",
    "positive_features = [(word_feats(pos), 'pos') for pos in wordPos]\n",
    "negative_features = [(word_feats(neg), 'neg') for neg in wordNeg]\n",
    "neutral_features = [(word_feats(neu), 'neu') for neu in wordOther]\n",
    " \n",
    "train_set = negative_features + positive_features + neutral_features\n",
    " \n",
    "classifier = NaiveBayesClassifier.train(train_set) \n",
    "\n",
    "\n",
    "print(nltk.classify.accuracy(classifier,train_set))\n",
    "\n",
    "classifier.show_most_informative_features()"
   ]
  },
  {
   "cell_type": "markdown",
   "metadata": {},
   "source": [
    "## METHODE 2"
   ]
  },
  {
   "cell_type": "code",
   "execution_count": null,
   "metadata": {
    "collapsed": true
   },
   "outputs": [],
   "source": []
  },
  {
   "cell_type": "code",
   "execution_count": null,
   "metadata": {
    "collapsed": true
   },
   "outputs": [],
   "source": []
  },
  {
   "cell_type": "code",
   "execution_count": null,
   "metadata": {
    "collapsed": true
   },
   "outputs": [],
   "source": []
  },
  {
   "cell_type": "code",
   "execution_count": null,
   "metadata": {
    "collapsed": true
   },
   "outputs": [],
   "source": []
  }
 ],
 "metadata": {
  "kernelspec": {
   "display_name": "Python 3",
   "language": "python",
   "name": "python3"
  },
  "language_info": {
   "codemirror_mode": {
    "name": "ipython",
    "version": 3
   },
   "file_extension": ".py",
   "mimetype": "text/x-python",
   "name": "python",
   "nbconvert_exporter": "python",
   "pygments_lexer": "ipython3",
   "version": "3.6.1"
  }
 },
 "nbformat": 4,
 "nbformat_minor": 2
}
